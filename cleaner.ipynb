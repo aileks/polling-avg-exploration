{
 "cells": [
  {
   "cell_type": "code",
   "id": "initial_id",
   "metadata": {
    "collapsed": true,
    "ExecuteTime": {
     "end_time": "2024-11-25T20:11:59.938Z",
     "start_time": "2024-11-25T20:11:59.531757Z"
    }
   },
   "source": [
    "import pandas as pd\n",
    "\n",
    "df = pd.read_csv(\"data/polling_data.csv\")"
   ],
   "outputs": [],
   "execution_count": 3
  },
  {
   "metadata": {
    "ExecuteTime": {
     "end_time": "2024-11-25T20:12:00.124408Z",
     "start_time": "2024-11-25T20:11:59.998991Z"
    }
   },
   "cell_type": "code",
   "source": [
    "# Take a peak at the data landscape\n",
    "df.info()"
   ],
   "id": "4c7dcd56b2d5f920",
   "outputs": [
    {
     "name": "stdout",
     "output_type": "stream",
     "text": [
      "<class 'pandas.core.frame.DataFrame'>\n",
      "RangeIndex: 18095 entries, 0 to 18094\n",
      "Data columns (total 52 columns):\n",
      " #   Column                     Non-Null Count  Dtype  \n",
      "---  ------                     --------------  -----  \n",
      " 0   poll_id                    18095 non-null  int64  \n",
      " 1   pollster_id                18095 non-null  int64  \n",
      " 2   pollster                   18095 non-null  object \n",
      " 3   sponsor_ids                8482 non-null   object \n",
      " 4   sponsors                   8482 non-null   object \n",
      " 5   display_name               18095 non-null  object \n",
      " 6   pollster_rating_id         18095 non-null  int64  \n",
      " 7   pollster_rating_name       18095 non-null  object \n",
      " 8   numeric_grade              15901 non-null  float64\n",
      " 9   pollscore                  15915 non-null  float64\n",
      " 10  methodology                16995 non-null  object \n",
      " 11  transparency_score         14886 non-null  float64\n",
      " 12  state                      10071 non-null  object \n",
      " 13  start_date                 18095 non-null  object \n",
      " 14  end_date                   18095 non-null  object \n",
      " 15  sponsor_candidate_id       333 non-null    float64\n",
      " 16  sponsor_candidate          333 non-null    object \n",
      " 17  sponsor_candidate_party    333 non-null    object \n",
      " 18  endorsed_candidate_id      0 non-null      float64\n",
      " 19  endorsed_candidate_name    0 non-null      float64\n",
      " 20  endorsed_candidate_party   0 non-null      float64\n",
      " 21  question_id                18095 non-null  int64  \n",
      " 22  sample_size                17944 non-null  float64\n",
      " 23  population                 18091 non-null  object \n",
      " 24  subpopulation              0 non-null      float64\n",
      " 25  population_full            18091 non-null  object \n",
      " 26  tracking                   1618 non-null   object \n",
      " 27  created_at                 18095 non-null  object \n",
      " 28  notes                      282 non-null    object \n",
      " 29  url                        18089 non-null  object \n",
      " 30  url_article                14256 non-null  object \n",
      " 31  url_topline                6822 non-null   object \n",
      " 32  url_crosstab               9814 non-null   object \n",
      " 33  source                     201 non-null    float64\n",
      " 34  internal                   2857 non-null   object \n",
      " 35  partisan                   1471 non-null   object \n",
      " 36  race_id                    18095 non-null  int64  \n",
      " 37  cycle                      18095 non-null  int64  \n",
      " 38  office_type                18095 non-null  object \n",
      " 39  seat_number                18095 non-null  int64  \n",
      " 40  seat_name                  0 non-null      float64\n",
      " 41  election_date              18095 non-null  object \n",
      " 42  stage                      18095 non-null  object \n",
      " 43  nationwide_batch           18095 non-null  bool   \n",
      " 44  ranked_choice_reallocated  18095 non-null  bool   \n",
      " 45  ranked_choice_round        39 non-null     float64\n",
      " 46  hypothetical               18095 non-null  bool   \n",
      " 47  party                      18095 non-null  object \n",
      " 48  answer                     18095 non-null  object \n",
      " 49  candidate_id               18095 non-null  int64  \n",
      " 50  candidate_name             18095 non-null  object \n",
      " 51  pct                        18095 non-null  float64\n",
      "dtypes: bool(3), float64(13), int64(8), object(28)\n",
      "memory usage: 6.8+ MB\n"
     ]
    }
   ],
   "execution_count": 4
  },
  {
   "metadata": {
    "ExecuteTime": {
     "end_time": "2024-11-25T20:12:00.582638Z",
     "start_time": "2024-11-25T20:12:00.227334Z"
    }
   },
   "cell_type": "code",
   "source": [
    "# Filters\n",
    "battleground_states = [\"Georgia\", \"North Carolina\", \"Pennsylvania\", \"Michigan\", \"Wisconsin\", \"Nevada\", \"Arizona\"]\n",
    "mask = (\n",
    "        (df[\"answer\"].isin([\"Trump\", \"Harris\"])) &\n",
    "        (df[\"state\"].isin(battleground_states))\n",
    ")\n",
    "\n",
    "# Copy original data for cleaning\n",
    "clean_data = df[mask].copy()\n",
    "clean_data.to_csv(\"data/raw_battleground_data.csv\", index=False)\n",
    "clean_data.info()"
   ],
   "id": "887da6356eda9f9a",
   "outputs": [
    {
     "name": "stdout",
     "output_type": "stream",
     "text": [
      "<class 'pandas.core.frame.DataFrame'>\n",
      "Index: 3331 entries, 7 to 18060\n",
      "Data columns (total 52 columns):\n",
      " #   Column                     Non-Null Count  Dtype  \n",
      "---  ------                     --------------  -----  \n",
      " 0   poll_id                    3331 non-null   int64  \n",
      " 1   pollster_id                3331 non-null   int64  \n",
      " 2   pollster                   3331 non-null   object \n",
      " 3   sponsor_ids                1820 non-null   object \n",
      " 4   sponsors                   1820 non-null   object \n",
      " 5   display_name               3331 non-null   object \n",
      " 6   pollster_rating_id         3331 non-null   int64  \n",
      " 7   pollster_rating_name       3331 non-null   object \n",
      " 8   numeric_grade              2747 non-null   float64\n",
      " 9   pollscore                  2761 non-null   float64\n",
      " 10  methodology                2992 non-null   object \n",
      " 11  transparency_score         3246 non-null   float64\n",
      " 12  state                      3331 non-null   object \n",
      " 13  start_date                 3331 non-null   object \n",
      " 14  end_date                   3331 non-null   object \n",
      " 15  sponsor_candidate_id       29 non-null     float64\n",
      " 16  sponsor_candidate          29 non-null     object \n",
      " 17  sponsor_candidate_party    29 non-null     object \n",
      " 18  endorsed_candidate_id      0 non-null      float64\n",
      " 19  endorsed_candidate_name    0 non-null      float64\n",
      " 20  endorsed_candidate_party   0 non-null      float64\n",
      " 21  question_id                3331 non-null   int64  \n",
      " 22  sample_size                3293 non-null   float64\n",
      " 23  population                 3331 non-null   object \n",
      " 24  subpopulation              0 non-null      float64\n",
      " 25  population_full            3331 non-null   object \n",
      " 26  tracking                   0 non-null      object \n",
      " 27  created_at                 3331 non-null   object \n",
      " 28  notes                      61 non-null     object \n",
      " 29  url                        3330 non-null   object \n",
      " 30  url_article                2665 non-null   object \n",
      " 31  url_topline                1369 non-null   object \n",
      " 32  url_crosstab               1987 non-null   object \n",
      " 33  source                     7 non-null      float64\n",
      " 34  internal                   720 non-null    object \n",
      " 35  partisan                   386 non-null    object \n",
      " 36  race_id                    3331 non-null   int64  \n",
      " 37  cycle                      3331 non-null   int64  \n",
      " 38  office_type                3331 non-null   object \n",
      " 39  seat_number                3331 non-null   int64  \n",
      " 40  seat_name                  0 non-null      float64\n",
      " 41  election_date              3331 non-null   object \n",
      " 42  stage                      3331 non-null   object \n",
      " 43  nationwide_batch           3331 non-null   bool   \n",
      " 44  ranked_choice_reallocated  3331 non-null   bool   \n",
      " 45  ranked_choice_round        0 non-null      float64\n",
      " 46  hypothetical               3331 non-null   bool   \n",
      " 47  party                      3331 non-null   object \n",
      " 48  answer                     3331 non-null   object \n",
      " 49  candidate_id               3331 non-null   int64  \n",
      " 50  candidate_name             3331 non-null   object \n",
      " 51  pct                        3331 non-null   float64\n",
      "dtypes: bool(3), float64(13), int64(8), object(28)\n",
      "memory usage: 1.3+ MB\n"
     ]
    }
   ],
   "execution_count": 5
  },
  {
   "metadata": {
    "ExecuteTime": {
     "end_time": "2024-11-25T20:12:00.949280Z",
     "start_time": "2024-11-25T20:12:00.938088Z"
    }
   },
   "cell_type": "code",
   "source": [
    "# Get polling averages for each battleground state\n",
    "polling_averages = clean_data.groupby([\"state\", \"answer\"])[\"pct\"].mean().reset_index()\n",
    "print(polling_averages)"
   ],
   "id": "f3798d4e8cfc262e",
   "outputs": [
    {
     "name": "stdout",
     "output_type": "stream",
     "text": [
      "             state  answer        pct\n",
      "0          Arizona  Harris  46.646402\n",
      "1          Arizona   Trump  46.792305\n",
      "2          Georgia  Harris  46.718000\n",
      "3          Georgia   Trump  47.240860\n",
      "4         Michigan  Harris  47.841244\n",
      "5         Michigan   Trump  45.413173\n",
      "6           Nevada  Harris  47.307851\n",
      "7           Nevada   Trump  46.263019\n",
      "8   North Carolina  Harris  47.343665\n",
      "9   North Carolina   Trump  47.197131\n",
      "10    Pennsylvania  Harris  47.773305\n",
      "11    Pennsylvania   Trump  46.239596\n",
      "12       Wisconsin  Harris  48.548421\n",
      "13       Wisconsin   Trump  45.642276\n"
     ]
    }
   ],
   "execution_count": 6
  },
  {
   "metadata": {
    "ExecuteTime": {
     "end_time": "2024-11-25T20:12:02.197276Z",
     "start_time": "2024-11-25T20:12:02.183816Z"
    }
   },
   "cell_type": "code",
   "source": [
    "# Pivot table for margin\n",
    "pivot_table = polling_averages.pivot(index=\"state\", columns=\"answer\", values=\"pct\").reset_index()\n",
    "pivot_table[\"margin\"] = pivot_table[\"Harris\"] - pivot_table[\"Trump\"]\n",
    "\n",
    "pivot_table.to_csv(\"data/swing_polling_pivot_data.csv\", index=False)\n",
    "print(pivot_table)"
   ],
   "id": "cfe3167939574cc6",
   "outputs": [
    {
     "name": "stdout",
     "output_type": "stream",
     "text": [
      "answer           state     Harris      Trump    margin\n",
      "0              Arizona  46.646402  46.792305 -0.145903\n",
      "1              Georgia  46.718000  47.240860 -0.522860\n",
      "2             Michigan  47.841244  45.413173  2.428071\n",
      "3               Nevada  47.307851  46.263019  1.044832\n",
      "4       North Carolina  47.343665  47.197131  0.146533\n",
      "5         Pennsylvania  47.773305  46.239596  1.533709\n",
      "6            Wisconsin  48.548421  45.642276  2.906145\n"
     ]
    }
   ],
   "execution_count": 10
  },
  {
   "metadata": {
    "ExecuteTime": {
     "end_time": "2024-11-25T20:12:01.654196Z",
     "start_time": "2024-11-25T20:12:01.572060Z"
    }
   },
   "cell_type": "code",
   "source": [
    "# Merge data from polling averages and pivot table\n",
    "clean_data_with_margins = clean_data.merge(\n",
    "    polling_averages,\n",
    "    on=[\"state\", \"answer\"],\n",
    "    suffixes=(\"\", \"_average\")\n",
    ")\n",
    "clean_data_with_margins = clean_data_with_margins.merge(\n",
    "    pivot_table,\n",
    "    on=\"state\",\n",
    "    how=\"left\"\n",
    ")\n",
    "clean_data_with_margins = clean_data_with_margins[[\"state\", \"answer\", \"pct\", \"pct_average\", \"margin\"]]\n",
    "clean_data_with_margins.to_csv(\"data/polling_data_cleaned.csv\", index=False)\n",
    "clean_data_with_margins.head()"
   ],
   "id": "30e56b79c2eb86f7",
   "outputs": [
    {
     "data": {
      "text/plain": [
       "     state  answer   pct  pct_average    margin\n",
       "0  Arizona  Harris  45.9    46.646402 -0.145903\n",
       "1  Arizona   Trump  51.0    46.792305 -0.145903\n",
       "2  Arizona  Harris  46.5    46.646402 -0.145903\n",
       "3  Arizona   Trump  51.6    46.792305 -0.145903\n",
       "4  Georgia  Harris  48.2    46.718000 -0.522860"
      ],
      "text/html": [
       "<div>\n",
       "<style scoped>\n",
       "    .dataframe tbody tr th:only-of-type {\n",
       "        vertical-align: middle;\n",
       "    }\n",
       "\n",
       "    .dataframe tbody tr th {\n",
       "        vertical-align: top;\n",
       "    }\n",
       "\n",
       "    .dataframe thead th {\n",
       "        text-align: right;\n",
       "    }\n",
       "</style>\n",
       "<table border=\"1\" class=\"dataframe\">\n",
       "  <thead>\n",
       "    <tr style=\"text-align: right;\">\n",
       "      <th></th>\n",
       "      <th>state</th>\n",
       "      <th>answer</th>\n",
       "      <th>pct</th>\n",
       "      <th>pct_average</th>\n",
       "      <th>margin</th>\n",
       "    </tr>\n",
       "  </thead>\n",
       "  <tbody>\n",
       "    <tr>\n",
       "      <th>0</th>\n",
       "      <td>Arizona</td>\n",
       "      <td>Harris</td>\n",
       "      <td>45.9</td>\n",
       "      <td>46.646402</td>\n",
       "      <td>-0.145903</td>\n",
       "    </tr>\n",
       "    <tr>\n",
       "      <th>1</th>\n",
       "      <td>Arizona</td>\n",
       "      <td>Trump</td>\n",
       "      <td>51.0</td>\n",
       "      <td>46.792305</td>\n",
       "      <td>-0.145903</td>\n",
       "    </tr>\n",
       "    <tr>\n",
       "      <th>2</th>\n",
       "      <td>Arizona</td>\n",
       "      <td>Harris</td>\n",
       "      <td>46.5</td>\n",
       "      <td>46.646402</td>\n",
       "      <td>-0.145903</td>\n",
       "    </tr>\n",
       "    <tr>\n",
       "      <th>3</th>\n",
       "      <td>Arizona</td>\n",
       "      <td>Trump</td>\n",
       "      <td>51.6</td>\n",
       "      <td>46.792305</td>\n",
       "      <td>-0.145903</td>\n",
       "    </tr>\n",
       "    <tr>\n",
       "      <th>4</th>\n",
       "      <td>Georgia</td>\n",
       "      <td>Harris</td>\n",
       "      <td>48.2</td>\n",
       "      <td>46.718000</td>\n",
       "      <td>-0.522860</td>\n",
       "    </tr>\n",
       "  </tbody>\n",
       "</table>\n",
       "</div>"
      ]
     },
     "execution_count": 8,
     "metadata": {},
     "output_type": "execute_result"
    }
   ],
   "execution_count": 8
  }
 ],
 "metadata": {
  "kernelspec": {
   "display_name": "Python 3",
   "language": "python",
   "name": "python3"
  },
  "language_info": {
   "codemirror_mode": {
    "name": "ipython",
    "version": 2
   },
   "file_extension": ".py",
   "mimetype": "text/x-python",
   "name": "python",
   "nbconvert_exporter": "python",
   "pygments_lexer": "ipython2",
   "version": "2.7.6"
  }
 },
 "nbformat": 4,
 "nbformat_minor": 5
}
